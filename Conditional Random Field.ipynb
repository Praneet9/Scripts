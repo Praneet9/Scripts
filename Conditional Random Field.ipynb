{
 "cells": [
  {
   "cell_type": "markdown",
   "metadata": {},
   "source": [
    "# Conditional Random Field"
   ]
  },
  {
   "cell_type": "code",
   "execution_count": 1,
   "metadata": {
    "ExecuteTime": {
     "end_time": "2020-04-20T13:00:02.361561Z",
     "start_time": "2020-04-20T13:00:01.705137Z"
    }
   },
   "outputs": [],
   "source": [
    "import matplotlib.pyplot as plt\n",
    "import nltk\n",
    "import sklearn\n",
    "import scipy.stats\n",
    "from sklearn.metrics import make_scorer\n",
    "from sklearn.model_selection import cross_val_score\n",
    "from sklearn.model_selection import RandomizedSearchCV\n",
    "\n",
    "import sklearn_crfsuite\n",
    "from sklearn_crfsuite import scorers\n",
    "from sklearn_crfsuite import metrics\n",
    "\n",
    "%matplotlib inline"
   ]
  },
  {
   "cell_type": "code",
   "execution_count": 2,
   "metadata": {
    "ExecuteTime": {
     "end_time": "2020-04-20T13:00:02.531450Z",
     "start_time": "2020-04-20T13:00:02.479671Z"
    }
   },
   "outputs": [],
   "source": [
    "test_sents = []\n",
    "\n",
    "with open('dataset/eng.testa') as data_file:\n",
    "    data = data_file.readlines()\n",
    "    sentences = []\n",
    "    for line in data:\n",
    "        item = line.split()\n",
    "        try:\n",
    "            if item[0] == '-DOCSTART-':\n",
    "                break\n",
    "            del item[2]\n",
    "        except:\n",
    "            test_sents.append(sentences.copy())\n",
    "            sentences = []\n",
    "            continue\n",
    "        sentences.append(item)\n",
    "\n",
    "\n",
    "train_sents = []        \n",
    "\n",
    "with open('dataset/eng.testb') as data_file:\n",
    "    data = data_file.readlines()\n",
    "    sentences = []\n",
    "    for line in data:\n",
    "        item = line.split()\n",
    "        try:\n",
    "            if item[0] == '-DOCSTART-':\n",
    "                break\n",
    "            del item[2]\n",
    "        except:\n",
    "            test_sents.append(sentences.copy())\n",
    "            sentences = []\n",
    "            continue\n",
    "        sentences.append(item)\n",
    "        \n",
    "with open('dataset/eng.train') as data_file:\n",
    "    data = data_file.readlines()\n",
    "    sentences = []\n",
    "    for line in data:\n",
    "        item = line.split()\n",
    "        try:\n",
    "            if item[0] == '-DOCSTART-':\n",
    "                break\n",
    "            del item[2]\n",
    "        except:\n",
    "            train_sents.append(sentences.copy())\n",
    "            sentences = []\n",
    "            continue\n",
    "        sentences.append(item)"
   ]
  },
  {
   "cell_type": "code",
   "execution_count": 3,
   "metadata": {
    "ExecuteTime": {
     "end_time": "2020-04-20T13:00:04.089349Z",
     "start_time": "2020-04-20T13:00:04.084955Z"
    }
   },
   "outputs": [
    {
     "data": {
      "text/plain": [
       "[['EU', 'NNP', 'I-ORG'],\n",
       " ['rejects', 'VBZ', 'O'],\n",
       " ['German', 'JJ', 'I-MISC'],\n",
       " ['call', 'NN', 'O'],\n",
       " ['to', 'TO', 'O'],\n",
       " ['boycott', 'VB', 'O'],\n",
       " ['British', 'JJ', 'I-MISC'],\n",
       " ['lamb', 'NN', 'O'],\n",
       " ['.', '.', 'O']]"
      ]
     },
     "execution_count": 3,
     "metadata": {},
     "output_type": "execute_result"
    }
   ],
   "source": [
    "train_sents[0]"
   ]
  },
  {
   "cell_type": "code",
   "execution_count": 4,
   "metadata": {
    "ExecuteTime": {
     "end_time": "2020-04-20T13:00:04.911330Z",
     "start_time": "2020-04-20T13:00:04.900362Z"
    }
   },
   "outputs": [],
   "source": [
    "def word2features(sent, i):\n",
    "    word = sent[i][0]\n",
    "    postag = sent[i][1]\n",
    "    \n",
    "    features ={\n",
    "        'bias': 1.0,\n",
    "        'word.lower()': word.lower(),\n",
    "        'word[-3:]': word[-3:],\n",
    "        'word[-2:]': word[-2:],\n",
    "        'word.isupper()': word.isupper(),\n",
    "        'word.istitle()': word.istitle(),\n",
    "        'word.isdigit()': word.isdigit(),\n",
    "        'postag': postag,\n",
    "        'postag[:2]': postag[:2]\n",
    "    }\n",
    "    \n",
    "    if i > 0:\n",
    "        word1 = sent[i-1][0]\n",
    "        postag1 = sent[i-1][0]\n",
    "        features.update({\n",
    "            '-1:word.isupper()': word1.isupper(),\n",
    "            '-1:word.istitle()': word1.istitle(),\n",
    "            '-1:word.isdigit()': word1.isdigit(),\n",
    "            '-1:postag': postag1,\n",
    "            '-1:postag[:2]': postag1[:2]\n",
    "        })\n",
    "    else:\n",
    "        features['BOS'] = True\n",
    "        \n",
    "    if i < len(sent) - 1:\n",
    "        word1 = sent[i+1][0]\n",
    "        postag1 = sent[i+1][0]\n",
    "        features.update({\n",
    "            '+1:word.isupper()': word1.isupper(),\n",
    "            '+1:word.istitle()': word1.istitle(),\n",
    "            '+1:word.isdigit()': word1.isdigit(),\n",
    "            '+1:postag': postag1,\n",
    "            '+1:postag[:2]': postag1[:2]\n",
    "        })\n",
    "    else:\n",
    "        features['EOS'] = True\n",
    "        \n",
    "    return features\n",
    "\n",
    "def sent2features(sent):\n",
    "    return [word2features(sent, i) for i in range(len(sent))]\n",
    "\n",
    "def sent2labels(sent):\n",
    "    return [label for token, postag, label in sent]\n",
    "\n",
    "def sent2tokens(sent):\n",
    "    return [token for token, postag, label in sent]"
   ]
  },
  {
   "cell_type": "code",
   "execution_count": 5,
   "metadata": {
    "ExecuteTime": {
     "end_time": "2020-04-20T13:00:06.614709Z",
     "start_time": "2020-04-20T13:00:06.611091Z"
    }
   },
   "outputs": [
    {
     "data": {
      "text/plain": [
       "{'bias': 1.0,\n",
       " 'word.lower()': 'eu',\n",
       " 'word[-3:]': 'EU',\n",
       " 'word[-2:]': 'EU',\n",
       " 'word.isupper()': True,\n",
       " 'word.istitle()': False,\n",
       " 'word.isdigit()': False,\n",
       " 'postag': 'NNP',\n",
       " 'postag[:2]': 'NN',\n",
       " 'BOS': True,\n",
       " '+1:word.isupper()': False,\n",
       " '+1:word.istitle()': False,\n",
       " '+1:word.isdigit()': False,\n",
       " '+1:postag': 'rejects',\n",
       " '+1:postag[:2]': 're'}"
      ]
     },
     "execution_count": 5,
     "metadata": {},
     "output_type": "execute_result"
    }
   ],
   "source": [
    "sent2features(train_sents[0])[0]"
   ]
  },
  {
   "cell_type": "code",
   "execution_count": 6,
   "metadata": {
    "ExecuteTime": {
     "end_time": "2020-04-20T13:00:08.530183Z",
     "start_time": "2020-04-20T13:00:08.521477Z"
    }
   },
   "outputs": [
    {
     "name": "stdout",
     "output_type": "stream",
     "text": [
      "CPU times: user 3.46 ms, sys: 0 ns, total: 3.46 ms\n",
      "Wall time: 3.26 ms\n"
     ]
    }
   ],
   "source": [
    "%%time\n",
    "X_train = [sent2features(s) for s in train_sents]\n",
    "y_train = [sent2labels(s) for s in train_sents]\n",
    "\n",
    "X_test = [sent2features(s) for s in test_sents]\n",
    "y_test = [sent2labels(s) for s in test_sents]"
   ]
  },
  {
   "cell_type": "code",
   "execution_count": 7,
   "metadata": {
    "ExecuteTime": {
     "end_time": "2020-04-20T13:00:09.533233Z",
     "start_time": "2020-04-20T13:00:09.469155Z"
    }
   },
   "outputs": [
    {
     "name": "stdout",
     "output_type": "stream",
     "text": [
      "CPU times: user 2 µs, sys: 1 µs, total: 3 µs\n",
      "Wall time: 3.81 µs\n"
     ]
    },
    {
     "data": {
      "text/plain": [
       "CRF(algorithm='lbfgs', all_possible_states=None, all_possible_transitions=True,\n",
       "    averaging=None, c=None, c1=0.1, c2=0.1, calibration_candidates=None,\n",
       "    calibration_eta=None, calibration_max_trials=None, calibration_rate=None,\n",
       "    calibration_samples=None, delta=None, epsilon=None, error_sensitive=None,\n",
       "    gamma=None, keep_tempfiles=None, linesearch=None, max_iterations=100,\n",
       "    max_linesearch=None, min_freq=None, model_filename=None, num_memories=None,\n",
       "    pa_type=None, period=None, trainer_cls=None, variance=None, verbose=False)"
      ]
     },
     "execution_count": 7,
     "metadata": {},
     "output_type": "execute_result"
    }
   ],
   "source": [
    "%time\n",
    "crf = sklearn_crfsuite.CRF(\n",
    "            algorithm='lbfgs',\n",
    "            c1=0.1,\n",
    "            c2=0.1,\n",
    "            max_iterations=100,\n",
    "            all_possible_transitions=True\n",
    "        )\n",
    "crf.fit(X_train, y_train)"
   ]
  },
  {
   "cell_type": "code",
   "execution_count": 8,
   "metadata": {
    "ExecuteTime": {
     "end_time": "2020-04-20T13:00:10.400826Z",
     "start_time": "2020-04-20T13:00:10.395948Z"
    }
   },
   "outputs": [
    {
     "data": {
      "text/plain": [
       "['I-ORG', 'I-MISC', 'I-PER', 'I-LOC']"
      ]
     },
     "execution_count": 8,
     "metadata": {},
     "output_type": "execute_result"
    }
   ],
   "source": [
    "labels = list(crf.classes_)\n",
    "labels.remove('O')\n",
    "labels"
   ]
  },
  {
   "cell_type": "code",
   "execution_count": 9,
   "metadata": {
    "ExecuteTime": {
     "end_time": "2020-04-20T13:00:11.956123Z",
     "start_time": "2020-04-20T13:00:11.942009Z"
    }
   },
   "outputs": [
    {
     "data": {
      "text/plain": [
       "0.38833770512393184"
      ]
     },
     "execution_count": 9,
     "metadata": {},
     "output_type": "execute_result"
    }
   ],
   "source": [
    "y_pred = crf.predict(X_test)\n",
    "metrics.flat_f1_score(y_test, y_pred, average='weighted', labels=labels)"
   ]
  },
  {
   "cell_type": "code",
   "execution_count": 10,
   "metadata": {
    "ExecuteTime": {
     "end_time": "2020-04-20T13:00:21.266250Z",
     "start_time": "2020-04-20T13:00:21.256114Z"
    }
   },
   "outputs": [
    {
     "name": "stdout",
     "output_type": "stream",
     "text": [
      "              precision    recall  f1-score   support\n",
      "\n",
      "       I-LOC      0.579     0.344     0.431        32\n",
      "      I-MISC      0.000     0.000     0.000        20\n",
      "       I-ORG      0.105     0.080     0.091        25\n",
      "       I-PER      0.705     0.674     0.689        46\n",
      "\n",
      "   micro avg      0.524     0.358     0.425       123\n",
      "   macro avg      0.347     0.274     0.303       123\n",
      "weighted avg      0.436     0.358     0.388       123\n",
      "\n"
     ]
    }
   ],
   "source": [
    "# group B and I results\n",
    "sorted_labels = sorted(\n",
    "    labels,\n",
    "    key=lambda name: (name[1:], name[0])\n",
    ")\n",
    "print(metrics.flat_classification_report(\n",
    "    y_test, y_pred, labels=sorted_labels, digits=3\n",
    "))"
   ]
  },
  {
   "cell_type": "code",
   "execution_count": 11,
   "metadata": {
    "ExecuteTime": {
     "end_time": "2020-04-20T13:00:47.991294Z",
     "start_time": "2020-04-20T13:00:40.882830Z"
    }
   },
   "outputs": [
    {
     "name": "stdout",
     "output_type": "stream",
     "text": [
      "Fitting 3 folds for each of 50 candidates, totalling 150 fits\n"
     ]
    },
    {
     "name": "stderr",
     "output_type": "stream",
     "text": [
      "[Parallel(n_jobs=-1)]: Using backend LokyBackend with 8 concurrent workers.\n",
      "[Parallel(n_jobs=-1)]: Done  34 tasks      | elapsed:    2.6s\n"
     ]
    },
    {
     "name": "stdout",
     "output_type": "stream",
     "text": [
      "CPU times: user 6.38 s, sys: 94.8 ms, total: 6.48 s\n",
      "Wall time: 7.1 s\n"
     ]
    },
    {
     "name": "stderr",
     "output_type": "stream",
     "text": [
      "[Parallel(n_jobs=-1)]: Done 150 out of 150 | elapsed:    7.0s finished\n",
      "/home/praneet/venv/blackstraw/lib/python3.6/site-packages/sklearn/model_selection/_search.py:814: DeprecationWarning: The default of the `iid` parameter will change from True to False in version 0.22 and will be removed in 0.24. This will change numeric results when test-set sizes are unequal.\n",
      "  DeprecationWarning)\n"
     ]
    },
    {
     "data": {
      "text/plain": [
       "RandomizedSearchCV(cv=3, error_score='raise-deprecating',\n",
       "                   estimator=CRF(algorithm='lbfgs', all_possible_states=None,\n",
       "                                 all_possible_transitions=True, averaging=None,\n",
       "                                 c=None, c1=None, c2=None,\n",
       "                                 calibration_candidates=None,\n",
       "                                 calibration_eta=None,\n",
       "                                 calibration_max_trials=None,\n",
       "                                 calibration_rate=None,\n",
       "                                 calibration_samples=None, delta=None,\n",
       "                                 epsilon=None, error_sensitive=None,...\n",
       "                   param_distributions={'c1': <scipy.stats._distn_infrastructure.rv_frozen object at 0x7fa17d6cc048>,\n",
       "                                        'c2': <scipy.stats._distn_infrastructure.rv_frozen object at 0x7fa17d6cc1d0>},\n",
       "                   pre_dispatch='2*n_jobs', random_state=None, refit=True,\n",
       "                   return_train_score=False,\n",
       "                   scoring=make_scorer(flat_f1_score, average=weighted, labels=['I-ORG', 'I-MISC', 'I-PER', 'I-LOC']),\n",
       "                   verbose=1)"
      ]
     },
     "execution_count": 11,
     "metadata": {},
     "output_type": "execute_result"
    }
   ],
   "source": [
    "%%time\n",
    "# define fixed parameters and parameters to search\n",
    "crf = sklearn_crfsuite.CRF(\n",
    "    algorithm='lbfgs',\n",
    "    max_iterations=100,\n",
    "    all_possible_transitions=True\n",
    ")\n",
    "params_space = {\n",
    "    'c1': scipy.stats.expon(scale=0.5),\n",
    "    'c2': scipy.stats.expon(scale=0.05),\n",
    "}\n",
    "\n",
    "# use the same metric for evaluation\n",
    "f1_scorer = make_scorer(metrics.flat_f1_score,\n",
    "                        average='weighted', labels=labels)\n",
    "\n",
    "# search\n",
    "rs = RandomizedSearchCV(crf, params_space,\n",
    "                        cv=3,\n",
    "                        verbose=1,\n",
    "                        n_jobs=-1,\n",
    "                        n_iter=50,\n",
    "                        scoring=f1_scorer)\n",
    "rs.fit(X_train, y_train)"
   ]
  },
  {
   "cell_type": "code",
   "execution_count": 12,
   "metadata": {
    "ExecuteTime": {
     "end_time": "2020-04-20T13:00:48.942730Z",
     "start_time": "2020-04-20T13:00:48.936032Z"
    }
   },
   "outputs": [
    {
     "name": "stdout",
     "output_type": "stream",
     "text": [
      "best params: {'c1': 0.22488954193744476, 'c2': 0.0007106192427788461}\n",
      "best CV score: 0.5991030708422013\n",
      "model size: 0.01M\n"
     ]
    }
   ],
   "source": [
    "print('best params:', rs.best_params_)\n",
    "print('best CV score:', rs.best_score_)\n",
    "print('model size: {:0.2f}M'.format(rs.best_estimator_.size_ / 1000000))"
   ]
  },
  {
   "cell_type": "code",
   "execution_count": 13,
   "metadata": {
    "ExecuteTime": {
     "end_time": "2020-04-20T13:00:51.325033Z",
     "start_time": "2020-04-20T13:00:49.942272Z"
    }
   },
   "outputs": [
    {
     "name": "stdout",
     "output_type": "stream",
     "text": [
      "Dark blue => 0.2804, dark red => 0.5991\n"
     ]
    },
    {
     "data": {
      "image/png": "[encoded data removed]",
      "text/plain": [
       "<Figure size 864x864 with 1 Axes>"
      ]
     },
     "metadata": {
      "needs_background": "light"
     },
     "output_type": "display_data"
    }
   ],
   "source": [
    "_x = [s['c1'] for s in rs.cv_results_['params']]\n",
    "_y = [s['c2'] for s in rs.cv_results_['params']]\n",
    "\n",
    "_c = [s for s in rs.cv_results_['mean_test_score']]\n",
    "\n",
    "fig = plt.figure()\n",
    "fig.set_size_inches(12, 12)\n",
    "ax = plt.gca()\n",
    "ax.set_yscale('log')\n",
    "ax.set_xscale('log')\n",
    "ax.set_xlabel('C1')\n",
    "ax.set_ylabel('C2')\n",
    "ax.set_title(\"Randomized Hyperparameter Search CV Results (min={:0.3}, max={:0.3})\".format(\n",
    "    min(_c), max(_c)\n",
    "))\n",
    "\n",
    "ax.scatter(_x, _y, c=_c, s=60, alpha=0.9, edgecolors=[0,0,0])\n",
    "\n",
    "print(\"Dark blue => {:0.4}, dark red => {:0.4}\".format(min(_c), max(_c)))"
   ]
  },
  {
   "cell_type": "code",
   "execution_count": 14,
   "metadata": {
    "ExecuteTime": {
     "end_time": "2020-04-20T13:00:52.306959Z",
     "start_time": "2020-04-20T13:00:52.281885Z"
    }
   },
   "outputs": [
    {
     "name": "stdout",
     "output_type": "stream",
     "text": [
      "              precision    recall  f1-score   support\n",
      "\n",
      "       I-LOC      0.417     0.625     0.500        32\n",
      "      I-MISC      0.000     0.000     0.000        20\n",
      "       I-ORG      0.071     0.080     0.075        25\n",
      "       I-PER      0.673     0.717     0.695        46\n",
      "\n",
      "   micro avg      0.440     0.447     0.444       123\n",
      "   macro avg      0.290     0.356     0.318       123\n",
      "weighted avg      0.375     0.447     0.405       123\n",
      "\n"
     ]
    },
    {
     "name": "stderr",
     "output_type": "stream",
     "text": [
      "/home/praneet/venv/blackstraw/lib/python3.6/site-packages/sklearn/metrics/classification.py:1437: UndefinedMetricWarning: Precision and F-score are ill-defined and being set to 0.0 in labels with no predicted samples.\n",
      "  'precision', 'predicted', average, warn_for)\n"
     ]
    }
   ],
   "source": [
    "crf = rs.best_estimator_\n",
    "y_pred = crf.predict(X_test)\n",
    "print(metrics.flat_classification_report(\n",
    "    y_test, y_pred, labels=sorted_labels, digits=3\n",
    "))"
   ]
  },
  {
   "cell_type": "code",
   "execution_count": 15,
   "metadata": {
    "ExecuteTime": {
     "end_time": "2020-04-20T13:00:53.409880Z",
     "start_time": "2020-04-20T13:00:53.403189Z"
    }
   },
   "outputs": [
    {
     "name": "stdout",
     "output_type": "stream",
     "text": [
      "Top likely transitions:\n",
      "I-PER  -> I-PER   4.483268\n",
      "I-ORG  -> I-ORG   3.827149\n",
      "I-MISC -> I-MISC  2.644557\n",
      "I-LOC  -> O       0.284173\n",
      "O      -> O       0.004285\n",
      "I-PER  -> O       -0.360639\n",
      "\n",
      "Top unlikely transitions:\n",
      "I-PER  -> I-PER   4.483268\n",
      "I-ORG  -> I-ORG   3.827149\n",
      "I-MISC -> I-MISC  2.644557\n",
      "I-LOC  -> O       0.284173\n",
      "O      -> O       0.004285\n",
      "I-PER  -> O       -0.360639\n"
     ]
    }
   ],
   "source": [
    "from collections import Counter\n",
    "\n",
    "def print_transitions(trans_features):\n",
    "    for (label_from, label_to), weight in trans_features:\n",
    "        print(\"%-6s -> %-7s %0.6f\" % (label_from, label_to, weight))\n",
    "\n",
    "print(\"Top likely transitions:\")\n",
    "print_transitions(Counter(crf.transition_features_).most_common(20))\n",
    "\n",
    "print(\"\\nTop unlikely transitions:\")\n",
    "print_transitions(Counter(crf.transition_features_).most_common()[-20:])"
   ]
  },
  {
   "cell_type": "code",
   "execution_count": 16,
   "metadata": {
    "ExecuteTime": {
     "end_time": "2020-04-20T13:00:54.443397Z",
     "start_time": "2020-04-20T13:00:54.434567Z"
    }
   },
   "outputs": [
    {
     "name": "stdout",
     "output_type": "stream",
     "text": [
      "Top positive:\n",
      "8.375494 O        bias\n",
      "7.943271 O        -1:postag:Farm\n",
      "6.072913 I-MISC   word[-3:]:ish\n",
      "5.402913 I-MISC   word.lower():german\n",
      "2.817113 I-ORG    word[-3:]:ion\n",
      "2.396439 I-PER    word[-2:]:er\n",
      "2.205688 I-ORG    word.isupper()\n",
      "2.146776 O        word[-3:]:arm\n",
      "2.112743 O        word.lower():farm\n",
      "1.939915 I-PER    word.lower():fischler\n",
      "1.939915 I-PER    word[-3:]:ler\n",
      "1.700428 O        word[-3:]:day\n",
      "1.700428 O        word[-2:]:ay\n",
      "1.590419 I-ORG    +1:postag:Union\n",
      "1.590419 I-ORG    +1:postag[:2]:Un\n",
      "1.532721 I-MISC   word.lower():bse\n",
      "1.532721 I-MISC   word[-3:]:BSE\n",
      "1.532721 I-MISC   word[-2:]:SE\n",
      "1.404222 I-ORG    word.lower():radio\n",
      "1.404222 I-ORG    word[-3:]:dio\n",
      "1.404222 I-ORG    -1:postag:BBC\n",
      "1.404222 I-ORG    -1:postag[:2]:BB\n",
      "1.243271 I-LOC    word.lower():britain\n",
      "1.243271 I-LOC    word[-3:]:ain\n",
      "1.225572 I-LOC    BOS\n",
      "1.209149 I-PER    +1:postag[:2]:Pa\n",
      "1.192694 O        word[-2:]:ch\n",
      "1.188353 I-LOC    word[-2:]:in\n",
      "1.153080 I-ORG    word.lower():eu\n",
      "1.153080 I-ORG    word[-3:]:EU\n",
      "\n",
      "Top negative:\n",
      "0.115409 I-MISC   -1:postag[:2]:Bo\n",
      "0.109049 I-ORG    word.lower():nfu\n",
      "0.109049 I-ORG    word[-3:]:NFU\n",
      "0.109049 I-ORG    word[-2:]:FU\n",
      "0.101876 I-LOC    -1:postag[:2]:ac\n",
      "0.071325 I-ORG    word[-2:]:sh\n",
      "0.070223 I-MISC   +1:postag:(\n",
      "0.070223 I-MISC   +1:postag[:2]:(\n",
      "0.048876 I-PER    word.lower():john\n",
      "0.048876 I-PER    word[-3:]:ohn\n",
      "0.048876 I-PER    word[-2:]:hn\n",
      "0.048876 I-PER    -1:postag:chairman\n",
      "0.048876 I-PER    +1:postag:Lloyd\n",
      "0.048876 I-PER    +1:postag[:2]:Ll\n",
      "0.042097 O        word.lower():march\n",
      "0.042097 O        word[-3:]:rch\n",
      "0.015988 I-PER    +1:postag[:2]:de\n",
      "0.001988 O        -1:word.istitle()\n",
      "-0.009154 O        postag[:2]:NN\n",
      "-0.192521 I-LOC    +1:word.istitle()\n",
      "-0.250222 O        +1:postag:.\n",
      "-0.250222 O        +1:postag[:2]:.\n",
      "-0.277312 O        word[-2:]:an\n",
      "-0.281746 I-ORG    word.istitle()\n",
      "-0.430515 I-PER    +1:word.istitle()\n",
      "-0.454198 I-ORG    BOS\n",
      "-2.016071 O        postag[:2]:JJ\n",
      "-2.028559 O        word.istitle()\n",
      "-2.768195 O        word.isupper()\n",
      "-5.695950 O        postag:NNP\n"
     ]
    }
   ],
   "source": [
    "def print_state_features(state_features):\n",
    "    for (attr, label), weight in state_features:\n",
    "        print(\"%0.6f %-8s %s\" % (weight, label, attr))\n",
    "\n",
    "print(\"Top positive:\")\n",
    "print_state_features(Counter(crf.state_features_).most_common(30))\n",
    "\n",
    "print(\"\\nTop negative:\")\n",
    "print_state_features(Counter(crf.state_features_).most_common()[-30:])"
   ]
  },
  {
   "cell_type": "code",
   "execution_count": null,
   "metadata": {},
   "outputs": [],
   "source": []
  }
 ],
 "metadata": {
  "kernelspec": {
   "display_name": "Python 3",
   "language": "python",
   "name": "python3"
  },
  "language_info": {
   "codemirror_mode": {
    "name": "ipython",
    "version": 3
   },
   "file_extension": ".py",
   "mimetype": "text/x-python",
   "name": "python",
   "nbconvert_exporter": "python",
   "pygments_lexer": "ipython3",
   "version": "3.6.9"
  },
  "toc": {
   "base_numbering": 1,
   "nav_menu": {},
   "number_sections": true,
   "sideBar": true,
   "skip_h1_title": false,
   "title_cell": "Table of Contents",
   "title_sidebar": "Contents",
   "toc_cell": false,
   "toc_position": {},
   "toc_section_display": true,
   "toc_window_display": false
  },
  "varInspector": {
   "cols": {
    "lenName": 16,
    "lenType": 16,
    "lenVar": 40
   },
   "kernels_config": {
    "python": {
     "delete_cmd_postfix": "",
     "delete_cmd_prefix": "del ",
     "library": "var_list.py",
     "varRefreshCmd": "print(var_dic_list())"
    },
    "r": {
     "delete_cmd_postfix": ") ",
     "delete_cmd_prefix": "rm(",
     "library": "var_list.r",
     "varRefreshCmd": "cat(var_dic_list()) "
    }
   },
   "types_to_exclude": [
    "module",
    "function",
    "builtin_function_or_method",
    "instance",
    "_Feature"
   ],
   "window_display": false
  }
 },
 "nbformat": 4,
 "nbformat_minor": 2
}
